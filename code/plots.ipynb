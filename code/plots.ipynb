{
 "cells": [
  {
   "cell_type": "markdown",
   "metadata": {},
   "source": [
    "### Plots using `plik_lite` data and best-fit values "
   ]
  },
  {
   "cell_type": "code",
   "execution_count": null,
   "metadata": {},
   "outputs": [],
   "source": [
    "from likelihoods import Planck_plik_lite_likelihood\n",
    "import numpy as np\n",
    "import matplotlib.pyplot as plt\n",
    "import matplotlib\n",
    "%matplotlib inline"
   ]
  },
  {
   "cell_type": "code",
   "execution_count": null,
   "metadata": {},
   "outputs": [],
   "source": [
    "# best-fit parameters\n",
    "#####################\n",
    "bestfitTT = [3.101, 0.966, 67.30, 0.2652, 0.049242, 0.0831]\n",
    "bestfitEE = [3.087, 0.968, 69.86, 0.2359, 0.048533, 0.0716]\n",
    "bestfitTE = [3.112, 0.961, 66.85, 0.2697, 0.049555, 0.0881]"
   ]
  },
  {
   "cell_type": "code",
   "execution_count": null,
   "metadata": {},
   "outputs": [],
   "source": [
    "plTTEE = Planck_plik_lite_likelihood(which=\"TTEE\")"
   ]
  },
  {
   "cell_type": "code",
   "execution_count": null,
   "metadata": {},
   "outputs": [],
   "source": [
    "# get the bes-fit Cls for each models\n",
    "#####################################\n",
    "mufac = plTTEE.mufac\n",
    "\n",
    "plTTEE.get_camb_Cls(bestfitTT)\n",
    "bfT_TT = plTTEE.bmTT@(mufac*(plTTEE.cmb.cambTCls[30:2509]))\n",
    "bfE_TT = plTTEE.bmEE@(mufac*(plTTEE.cmb.cambECls[30:1997]))\n",
    "\n",
    "plTTEE.get_camb_Cls(bestfitEE)\n",
    "bfT_EE = plTTEE.bmTT@(mufac*(plTTEE.cmb.cambTCls[30:2509]))\n",
    "bfE_EE = plTTEE.bmEE@(mufac*(plTTEE.cmb.cambECls[30:1997]))\n",
    "\n",
    "plTTEE.get_camb_Cls(bestfitTE)\n",
    "bfT_TE = plTTEE.bmTT@(mufac*(plTTEE.cmb.cambTCls[30:2509]))\n",
    "bfE_TE = plTTEE.bmEE@(mufac*(plTTEE.cmb.cambECls[30:1997]))\n"
   ]
  },
  {
   "cell_type": "code",
   "execution_count": null,
   "metadata": {},
   "outputs": [],
   "source": [
    "nls = 5\n",
    "\n",
    "clTTs = plTTEE.cldata[0:nls]\n",
    "erTTs = np.array([np.sqrt(plTTEE.gcovTT[i,i]) for i in range(nls)])\n",
    "clEEs = plTTEE.cldata[215:215+nls]\n",
    "erEEs = np.array([np.sqrt(plTTEE.gcovEE[i,i]) for i in range(nls)])\n",
    "\n",
    "leffs = plTTEE.leff[0:nls]\n",
    "lfacs = np.array([leffs[i]*(leffs[i]+1)/(2.*np.pi) for i in range(nls)])\n",
    "\n",
    "plt.errorbar(leffs, clTTs, erTTs, fmt=\"o\")\n",
    "plt.plot(leffs, bfT_TE[0:nls])\n",
    "plt.plot(leffs, bfT_TT[0:nls], linestyle=\"dotted\")\n",
    "plt.plot(leffs, bfT_EE[0:nls], \"--\")\n",
    "\n",
    "#plt.xticks(leffs);\n",
    "#plt.plot(plTTEE.cldata[215:215+nls])"
   ]
  },
  {
   "cell_type": "code",
   "execution_count": null,
   "metadata": {},
   "outputs": [],
   "source": [
    "plt.errorbar(leffs, clEEs, erEEs, fmt=\"o\")\n",
    "plt.plot(leffs, bfE_TE[0:nls])\n",
    "plt.plot(leffs, bfE_TT[0:nls], linestyle=\"dotted\")\n",
    "plt.plot(leffs, bfE_EE[0:nls], \"--\")\n",
    "#plt.xticks(leffs);\n",
    "#plt.xlim(0, 200)"
   ]
  },
  {
   "cell_type": "code",
   "execution_count": null,
   "metadata": {},
   "outputs": [],
   "source": [
    "# The likelihood-ratio approximation \n",
    "####################################\n",
    "plTTEE.cldata = np.append(bfT_TE, bfE_TE)\n",
    "maxcom = plTTEE.logLike(bestfitTE)\n",
    "\n",
    "plTTEE.cldata = np.append(bfT_TT, bfE_EE)\n",
    "maxsep = plTTEE.logLike(bestfitTE)\n",
    "\n",
    "print (maxcom, maxsep)"
   ]
  },
  {
   "cell_type": "markdown",
   "metadata": {},
   "source": [
    "### Simulate some data points with a linear model and obtain $\\ln R_{12}$ and its distribution\n",
    "The model can be simply $y=mx+b$ with say fiducial $m=1$ and $b=0$, and then we can define two experiments that can measure $y$ with some error $\\sigma_y(x)$. For the first simple test, we can assume that the data points are uncorrelated; this doesn't mean that the posterior for the model parameters $m,b$ will be uncorrelated. "
   ]
  },
  {
   "cell_type": "code",
   "execution_count": null,
   "metadata": {},
   "outputs": [],
   "source": [
    "from scipy.optimize import fmin\n",
    "\n",
    "def ymodel(x, m=1, b=0):\n",
    "    return m*x + b\n",
    "\n",
    "def yrealization(x, sigmay=1):\n",
    "    # return a random realization for y(x)\n",
    "    return np.random.normal(loc=ymodel(x), scale=sigmay)"
   ]
  },
  {
   "cell_type": "code",
   "execution_count": null,
   "metadata": {},
   "outputs": [],
   "source": [
    "xs1 = range(5)\n",
    "xs2 = np.arange(-4.5, 0, 1)\n",
    "xs = np.append(xs2, xs1)\n",
    "#xs = np.arange(-4.5, 5, 1)\n",
    "os = np.ones(len(xs1))\n",
    "\n",
    "lnR12list = []"
   ]
  },
  {
   "cell_type": "code",
   "execution_count": null,
   "metadata": {},
   "outputs": [],
   "source": [
    "# just for single plot\n",
    "######################\n",
    "sigma1 = 1\n",
    "sigma2 = 1.5\n",
    "\n",
    "d1 = np.array([yrealization(i, sigmay=sigma1) for i in xs1])\n",
    "d2 = np.array([yrealization(i, sigmay=sigma2) for i in xs2])\n",
    "\n",
    "def chisq1(params):\n",
    "    m, b = params\n",
    "    th1 = np.array([ymodel(x, m=m, b=b) for x in xs1])\n",
    "    return np.sum(((d1-th1)/sigma1)**2.0)\n",
    "\n",
    "def chisq2(params):\n",
    "    m, b = params\n",
    "    th2 = np.array([ymodel(x, m=m, b=b) for x in xs2])\n",
    "    return np.sum(((d2-th2)/sigma2)**2.0)\n",
    "\n",
    "def chisq12(params):\n",
    "    m, b = params\n",
    "    return chisq1(params) + chisq2(params)\n",
    "\n",
    "r1 = fmin(chisq1, x0=[0,1], disp=0);\n",
    "r2 = fmin(chisq2, x0=[0,1], disp=0);\n",
    "r12 = fmin(chisq12, x0=[0,1], disp=0);\n",
    "\n",
    "plt.figure(figsize=(4.5,3.5))\n",
    "\n",
    "plt.errorbar(xs1, d1, sigma1*os , fmt=\"go\", alpha=0.3, label=r\"$\\bf{d}_1$\")\n",
    "plt.plot(xs1, np.array([ymodel(x, m=r1[0], b=r1[1]) for x in xs1]), \"g--x\", label=r\"$g_1(\\bf{\\theta}_1^{\\rm ML})$\", alpha=0.75)\n",
    "plt.errorbar(xs2, d2, sigma2*os, fmt=\"bd\", alpha=0.3, label=r\"$\\bf{d}_2$\")\n",
    "plt.plot(xs2, np.array([ymodel(x, m=r2[0], b=r2[1]) for x in xs2]), \"b--x\", label=r\"$g_2(\\bf{\\theta}_2^{\\rm ML}$)\", alpha=0.75)\n",
    "\n",
    "plt.plot(xs, np.array([ymodel(x, m=r12[0], b=r12[1]) for x in xs]), \"kx\", linestyle=\"dotted\", alpha=0.5, label=r\"$\\{g_1({\\bf{\\theta}}_{12}^{\\rm ML}), g_2({\\bf{\\theta}}_{12}^{\\rm ML})\\}$\")\n",
    "plt.legend()\n",
    "\n",
    "plt.xlabel(\"x\")\n",
    "plt.ylabel(\"y\")\n",
    "plt.tight_layout()\n",
    "#plt.style(3)\n",
    "plt.grid(linestyle=\"dotted\")\n",
    "\n",
    "print (r1, r2, r12)\n",
    "#plt.savefig(\"gtheta.pdf\")"
   ]
  },
  {
   "cell_type": "code",
   "execution_count": null,
   "metadata": {},
   "outputs": [],
   "source": [
    "dbfsep1 = np.array([ymodel(x, m=r1[0], b=r1[1]) for x in xs1])\n",
    "dbfsep2 = np.array([ymodel(x, m=r2[0], b=r2[1]) for x in xs2])\n",
    "\n",
    "dbfcom1 = np.array([ymodel(x, m=r12[0], b=r12[1]) for x in xs1])\n",
    "dbfcom2 = np.array([ymodel(x, m=r12[0], b=r12[1]) for x in xs2])\n",
    "\n",
    "def lnlikesep(params):\n",
    "        m, b = params\n",
    "        th1 = np.array([ymodel(x, m=m, b=b) for x in xs1])\n",
    "        th2 = np.array([ymodel(x, m=m, b=b) for x in xs2])\n",
    "\n",
    "        return -0.5*((np.sum((dbfsep1-th1)/sigma1)**2.) + np.sum((dbfsep2-th2)/sigma2)**2.)\n",
    "\n",
    "def lnlikecom(params):\n",
    "    m, b = params\n",
    "    th1 = np.array([ymodel(x, m=m, b=b) for x in xs1])\n",
    "    th2 = np.array([ymodel(x, m=m, b=b) for x in xs2])\n",
    "\n",
    "    return -0.5*((np.sum((dbfcom1-th1)/sigma1)**2.) + np.sum((dbfcom2-th2)/sigma2)**2.)\n",
    "\n",
    "lnlikesep(r1)"
   ]
  },
  {
   "cell_type": "code",
   "execution_count": null,
   "metadata": {},
   "outputs": [],
   "source": [
    "import emcee\n",
    "ndim, nwalkers = 2, 100\n",
    "sampler_com = emcee.EnsembleSampler(nwalkers, ndim, lnlikecom)\n",
    "pos_com = [r12+1e-2*np.random.randn(ndim) for i in range(nwalkers)]\n",
    "%time sampler_com.run_mcmc(pos_com, 1000, );"
   ]
  },
  {
   "cell_type": "code",
   "execution_count": null,
   "metadata": {},
   "outputs": [],
   "source": [
    "samples = sampler_com.chain[:,50:,:].reshape((-1,ndim))\n",
    "from chainconsumer import ChainConsumer\n",
    "c = ChainConsumer()\n",
    "c.add_chain(samples, parameters=[\"$x$\", \"$y$\"])\n",
    "fig = c.plotter.plot()"
   ]
  },
  {
   "cell_type": "code",
   "execution_count": null,
   "metadata": {},
   "outputs": [],
   "source": [
    "c.plotter."
   ]
  },
  {
   "cell_type": "code",
   "execution_count": null,
   "metadata": {},
   "outputs": [],
   "source": [
    "cnt = 0   \n",
    "sigma1 = 1\n",
    "sigma2 = 1\n",
    "\n",
    "while (cnt<1):\n",
    "\n",
    "    d1 = np.array([yrealization(i, sigmay=sigma1) for i in xs1])\n",
    "    d2 = np.array([yrealization(i, sigmay=sigma2) for i in xs2])\n",
    "\n",
    "    def chisq1(params):\n",
    "        m, b = params\n",
    "        th1 = np.array([ymodel(x, m=m, b=b) for x in xs1])\n",
    "        return np.sum(((d1-th1)/sigma1)**2.0)\n",
    "\n",
    "    def chisq2(params):\n",
    "        m, b = params\n",
    "        th2 = np.array([ymodel(x, m=m, b=b) for x in xs2])\n",
    "        return np.sum(((d2-th2)/sigma2)**2.0)\n",
    "\n",
    "    def chisq12(params):\n",
    "        m, b = params\n",
    "        return chisq1(params) + chisq2(params)\n",
    "\n",
    "    r1 = fmin(chisq1, x0=[0,1], disp=0);\n",
    "    r2 = fmin(chisq2, x0=[0,1], disp=0);\n",
    "    r12 = fmin(chisq12, x0=[0,1], disp=0);\n",
    "\n",
    "    plt.errorbar(xs1, d1, sigma1*os , fmt=\"go\", alpha=0.3, label=\"$\\textbf{d}_1$\")\n",
    "    plt.plot(xs, np.array([ymodel(x, m=r1[0], b=r1[1]) for x in xs]), \"g--\")\n",
    "    plt.errorbar(xs2, d2, sigma2*os, fmt=\"bd\", alpha=0.3)\n",
    "    plt.plot(xs, np.array([ymodel(x, m=r2[0], b=r2[1]) for x in xs]), \"b--\")\n",
    "\n",
    "    plt.plot(xs, np.array([ymodel(x, m=r12[0], b=r12[1]) for x in xs]), \"k\", alpha=0.2)\n",
    "    plt.tight_layout()\n",
    "    plt.legend()\n",
    "    \n",
    "    print (r1, r2, r12)\n",
    "\n",
    "    dbfsep1 = np.array([ymodel(x, m=r1[0], b=r1[1]) for x in xs1])\n",
    "    dbfsep2 = np.array([ymodel(x, m=r2[0], b=r2[1]) for x in xs2])\n",
    "\n",
    "    dbfcom1 = np.array([ymodel(x, m=r12[0], b=r12[1]) for x in xs1])\n",
    "    dbfcom2 = np.array([ymodel(x, m=r12[0], b=r12[1]) for x in xs2])\n",
    "\n",
    "    # now likelihood functions with the best-fit model\n",
    "    ##################################################\n",
    "    def lnlikesep(params):\n",
    "        m, b = params\n",
    "        th1 = np.array([ymodel(x, m=m, b=b) for x in xs1])\n",
    "        th2 = np.array([ymodel(x, m=m, b=b) for x in xs2])\n",
    "\n",
    "        return -0.5*((np.sum((dbfsep1-th1)/sigma1)**2.) + np.sum((dbfsep2-th2)/sigma2)**2.)\n",
    "\n",
    "    def lnlikecom(params):\n",
    "        m, b = params\n",
    "        th1 = np.array([ymodel(x, m=m, b=b) for x in xs1])\n",
    "        th2 = np.array([ymodel(x, m=m, b=b) for x in xs2])\n",
    "\n",
    "        return -0.5*((np.sum((dbfcom1-th1)/sigma1)**2.) + np.sum((dbfcom2-th2)/sigma2)**2.)\n",
    "\n",
    "    ressep = solve(LogLikelihood=lnlikesep, Prior=Prior, n_dims=2, resume=False,\n",
    "               sampling_efficiency=\"model\", n_live_points=400)\n",
    "    rescom = solve(LogLikelihood=lnlikecom, Prior=Prior, n_dims=2, resume=False,\n",
    "               sampling_efficiency=\"model\", n_live_points=400)\n",
    "\n",
    "    print (cnt, ressep['logZ'], rescom['logZ'])\n",
    "    lnR12list.append(ressep['logZ']-rescom['logZ'])\n",
    "    cnt = cnt + 1"
   ]
  },
  {
   "cell_type": "code",
   "execution_count": null,
   "metadata": {},
   "outputs": [],
   "source": [
    "plt.hist(lnR12list, histtype='step', bins=50);\n",
    "plt.xlim(-4, 0.5)"
   ]
  },
  {
   "cell_type": "code",
   "execution_count": null,
   "metadata": {},
   "outputs": [],
   "source": [
    "len(np.array(lnR12list)[np.array(lnR12list)<-2])/len(lnR12list)"
   ]
  },
  {
   "cell_type": "code",
   "execution_count": null,
   "metadata": {},
   "outputs": [],
   "source": [
    "import pymultinest\n",
    "from pymultinest.solve import solve\n",
    "\n",
    "def Prior(cube):\n",
    "    return -5+cube*10\n",
    "    \n",
    "def Loglike(cube):\n",
    "    m, b = cube[0], cube[1]\n",
    "    return -chisq12([m,b])\n"
   ]
  },
  {
   "cell_type": "code",
   "execution_count": null,
   "metadata": {},
   "outputs": [],
   "source": [
    "ressep = solve(LogLikelihood=lnlikesep, Prior=Prior, n_dims=2, resume=False,\n",
    "           sampling_efficiency=\"model\", n_live_points=400)\n",
    "rescom = solve(LogLikelihood=lnlikecom, Prior=Prior, n_dims=2, resume=False,\n",
    "           sampling_efficiency=\"model\", n_live_points=400)\n",
    "\n",
    "ressep['logZ'], rescom['logZ']"
   ]
  }
 ],
 "metadata": {
  "kernelspec": {
   "display_name": "Python [conda env:anaconda3]",
   "language": "python",
   "name": "conda-env-anaconda3-py"
  },
  "language_info": {
   "codemirror_mode": {
    "name": "ipython",
    "version": 3
   },
   "file_extension": ".py",
   "mimetype": "text/x-python",
   "name": "python",
   "nbconvert_exporter": "python",
   "pygments_lexer": "ipython3",
   "version": "3.6.5"
  }
 },
 "nbformat": 4,
 "nbformat_minor": 2
}
