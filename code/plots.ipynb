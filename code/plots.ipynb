{
 "cells": [
  {
   "cell_type": "markdown",
   "metadata": {},
   "source": [
    "### Simulate some data points with a linear model and obtain $\\ln R_{12}$\n",
    "The model can be simply $y=mx+b$ with say fiducial $m=1$ and $b=0$, and then we can define two experiments that can measure $y$ with some error $\\sigma_y(x)$. For the first simple test, we can assume that the data points are uncorrelated; this doesn't necessarily mean that the posterior for the model parameters $m,b$ will be uncorrelated. "
   ]
  },
  {
   "cell_type": "code",
   "execution_count": 15,
   "metadata": {},
   "outputs": [],
   "source": [
    "import numpy as np\n",
    "import matplotlib.pyplot as plt\n",
    "import matplotlib\n",
    "%matplotlib inline\n",
    "\n",
    "from scipy.optimize import fmin_powell\n",
    "\n",
    "def ymodel(x, m=1, b=0):\n",
    "    return m*x + b\n",
    "\n",
    "def yrealization(x, sigmay=1):\n",
    "    # return a random realization for y(x)\n",
    "    return np.random.normal(loc=ymodel(x), scale=sigmay)"
   ]
  },
  {
   "cell_type": "code",
   "execution_count": 16,
   "metadata": {},
   "outputs": [],
   "source": [
    "xs1 = range(5)\n",
    "xs2 = np.arange(-4.5, 0, 1)\n",
    "xs = np.append(xs2, xs1)\n",
    "os = np.ones(len(xs1))"
   ]
  },
  {
   "cell_type": "code",
   "execution_count": 17,
   "metadata": {},
   "outputs": [
    {
     "name": "stdout",
     "output_type": "stream",
     "text": [
      "[ 1.37229197 -0.37908861] [2.36095231 3.0784522 ] [ 1.30968928 -0.02082386]\n"
     ]
    },
    {
     "data": {
      "image/png": "[encoded data removed]",
      "text/plain": [
       "<Figure size 360x288 with 1 Axes>"
      ]
     },
     "metadata": {},
     "output_type": "display_data"
    }
   ],
   "source": [
    "# just for single plot\n",
    "######################\n",
    "sigma1 = 1\n",
    "sigma2 = 1.5\n",
    "\n",
    "d1 = np.array([yrealization(i, sigmay=sigma1) for i in xs1])\n",
    "d2 = np.array([yrealization(i, sigmay=sigma2) for i in xs2])\n",
    "\n",
    "def chisq1(params):\n",
    "    m, b = params\n",
    "    th1 = np.array([ymodel(x, m=m, b=b) for x in xs1])\n",
    "    return np.sum(((d1-th1)/sigma1)**2.0)\n",
    "\n",
    "def chisq2(params):\n",
    "    m, b = params\n",
    "    th2 = np.array([ymodel(x, m=m, b=b) for x in xs2])\n",
    "    return np.sum(((d2-th2)/sigma2)**2.0)\n",
    "\n",
    "def chisq12(params):\n",
    "    m, b = params\n",
    "    return chisq1(params) + chisq2(params)\n",
    "\n",
    "r1 = fmin_powell(chisq1, x0=[0,1], disp=0);\n",
    "r2 = fmin_powell(chisq2, x0=[0,1], disp=0);\n",
    "r12 = fmin_powell(chisq12, x0=[0,1], disp=0);\n",
    "\n",
    "plt.figure(figsize=(5,4))\n",
    "\n",
    "plt.errorbar(xs1, d1, sigma1*os , fmt=\"go\", alpha=0.3, label=r\"$\\bf{d}_1$\")\n",
    "plt.plot(xs1, np.array([ymodel(x, m=r1[0], b=r1[1]) for x in xs1]), \"g--x\", label=r\"$g_1(\\bf{\\theta}_1^{\\rm ML})$\", alpha=0.75)\n",
    "plt.errorbar(xs2, d2, sigma2*os, fmt=\"bd\", alpha=0.3, label=r\"$\\bf{d}_2$\")\n",
    "plt.plot(xs2, np.array([ymodel(x, m=r2[0], b=r2[1]) for x in xs2]), \"b--x\", label=r\"$g_2(\\bf{\\theta}_2^{\\rm ML}$)\", alpha=0.75)\n",
    "\n",
    "plt.plot(xs, np.array([ymodel(x, m=r12[0], b=r12[1]) for x in xs]), \"kx\", linestyle=\"dotted\", alpha=0.5, label=r\"$\\{g_1({\\bf{\\theta}}_{12}^{\\rm ML}), g_2({\\bf{\\theta}}_{12}^{\\rm ML})\\}$\")\n",
    "plt.legend()\n",
    "\n",
    "plt.xlabel(\"x\")\n",
    "plt.ylabel(\"y\")\n",
    "plt.tight_layout()\n",
    "\n",
    "plt.grid(linestyle=\"dotted\")\n",
    "\n",
    "print (r1, r2, r12)\n",
    "#plt.savefig(\"gtheta.pdf\")"
   ]
  },
  {
   "cell_type": "markdown",
   "metadata": {},
   "source": [
    "### Now compute the evidence ratio $R_{12}$ for the example datasets above"
   ]
  },
  {
   "cell_type": "code",
   "execution_count": 18,
   "metadata": {},
   "outputs": [
    {
     "name": "stdout",
     "output_type": "stream",
     "text": [
      "  analysing data from /tmp/tmpve1culb6pymultinest/.txt\n",
      "  analysing data from /tmp/tmpwu39iod9pymultinest/.txt\n",
      "-1.0529204719796947 +/- 0.22078205889089936\n"
     ]
    }
   ],
   "source": [
    "dbfsep1 = np.array([ymodel(x, m=r1[0], b=r1[1]) for x in xs1])\n",
    "dbfsep2 = np.array([ymodel(x, m=r2[0], b=r2[1]) for x in xs2])\n",
    "\n",
    "dbfcom1 = np.array([ymodel(x, m=r12[0], b=r12[1]) for x in xs1])\n",
    "dbfcom2 = np.array([ymodel(x, m=r12[0], b=r12[1]) for x in xs2])\n",
    "\n",
    "def lnlikesep(params):\n",
    "        m, b = params\n",
    "        th1 = np.array([ymodel(x, m=m, b=b) for x in xs1])\n",
    "        th2 = np.array([ymodel(x, m=m, b=b) for x in xs2])\n",
    "\n",
    "        return -0.5*(np.sum(((dbfsep1-th1)/sigma1)**2.) + np.sum((dbfsep2-th2)/sigma2)**2.)\n",
    "\n",
    "def lnlikecom(params):\n",
    "    m, b = params\n",
    "    th1 = np.array([ymodel(x, m=m, b=b) for x in xs1])\n",
    "    th2 = np.array([ymodel(x, m=m, b=b) for x in xs2])\n",
    "\n",
    "    return -0.5*(np.sum(((dbfcom1-th1)/sigma1)**2.) + np.sum(((dbfcom2-th2)/sigma2)**2.))\n",
    "\n",
    "from pymultinest.solve import solve\n",
    "\n",
    "def Prior(cube):\n",
    "    return -5+cube*10\n",
    "    \n",
    "def Loglike(cube):\n",
    "    m, b = cube[0], cube[1]\n",
    "    return -chisq12([m,b])\n",
    "\n",
    "ressep = solve(LogLikelihood=lnlikesep, Prior=Prior, n_dims=2, resume=False,\n",
    "           sampling_efficiency=\"model\", n_live_points=400)\n",
    "rescom = solve(LogLikelihood=lnlikecom, Prior=Prior, n_dims=2, resume=False,\n",
    "           sampling_efficiency=\"model\", n_live_points=400)\n",
    "\n",
    "print (ressep['logZ']-rescom['logZ'], \"+/-\", ressep['logZerr']+rescom['logZerr'])"
   ]
  }
 ],
 "metadata": {
  "kernelspec": {
   "display_name": "Python [conda env:anaconda3]",
   "language": "python",
   "name": "conda-env-anaconda3-py"
  },
  "language_info": {
   "codemirror_mode": {
    "name": "ipython",
    "version": 3
   },
   "file_extension": ".py",
   "mimetype": "text/x-python",
   "name": "python",
   "nbconvert_exporter": "python",
   "pygments_lexer": "ipython3",
   "version": "3.6.5"
  }
 },
 "nbformat": 4,
 "nbformat_minor": 2
}
