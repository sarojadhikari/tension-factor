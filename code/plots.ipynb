{
 "cells": [
  {
   "cell_type": "markdown",
   "metadata": {},
   "source": [
    "### Simulate some data points with a linear model and obtain $\\ln R_{12}$\n",
    "The model can be simply $y=mx+b$ with say fiducial $m=1$ and $b=0$, and then we can define two experiments that can measure $y$ with some error $\\sigma_y(x)$. For the first simple test, we can assume that the data points are uncorrelated; this doesn't necessarily mean that the posterior for the model parameters $m,b$ will be uncorrelated. "
   ]
  },
  {
   "cell_type": "code",
   "execution_count": 2,
   "metadata": {},
   "outputs": [],
   "source": [
    "import numpy as np\n",
    "import matplotlib.pyplot as plt\n",
    "import matplotlib\n",
    "%matplotlib inline\n",
    "\n",
    "from scipy.optimize import fmin_powell\n",
    "\n",
    "def ymodel(x, m=0.5, b=0):\n",
    "    return m*x + b\n",
    "\n",
    "def yrealization(x, sigmay=1):\n",
    "    # return a random realization for y(x)\n",
    "    return np.random.normal(loc=ymodel(x), scale=sigmay)"
   ]
  },
  {
   "cell_type": "code",
   "execution_count": 3,
   "metadata": {},
   "outputs": [],
   "source": [
    "xs1 = range(5)\n",
    "xs2 = np.arange(-4, 1, 1)\n",
    "xs = np.append(xs2, xs1)\n",
    "os = np.ones(len(xs1))"
   ]
  },
  {
   "cell_type": "code",
   "execution_count": 15,
   "metadata": {},
   "outputs": [],
   "source": [
    "# just for single plot\n",
    "######################\n",
    "sigma1 = 1\n",
    "sigma2 = 1.5\n",
    "\n",
    "d1 = np.array([yrealization(i, sigmay=sigma1) for i in xs1])\n",
    "d2 = np.array([yrealization(i, sigmay=sigma2) for i in xs2])\n",
    "\n",
    "def chisq1(params):\n",
    "    m, b = params\n",
    "    th1 = np.array([ymodel(x, m=m, b=b) for x in xs1])\n",
    "    return np.sum(((d1-th1)/sigma1)**2.0)\n",
    "\n",
    "def chisq2(params):\n",
    "    m, b = params\n",
    "    th2 = np.array([ymodel(x, m=m, b=b) for x in xs2])\n",
    "    return np.sum(((d2-th2)/sigma2)**2.0)\n",
    "\n",
    "def chisq12(params):\n",
    "    m, b = params\n",
    "    return chisq1(params) + chisq2(params)\n",
    "\n",
    "r1 = fmin_powell(chisq1, x0=[0,1], disp=0);\n",
    "r2 = fmin_powell(chisq2, x0=[0,1], disp=0);\n",
    "r12 = fmin_powell(chisq12, x0=[0,1], disp=0);"
   ]
  },
  {
   "cell_type": "code",
   "execution_count": 44,
   "metadata": {},
   "outputs": [
    {
     "data": {
      "image/png": "[encoded data removed]",
      "text/plain": [
       "<Figure size 306x234 with 2 Axes>"
      ]
     },
     "metadata": {},
     "output_type": "display_data"
    }
   ],
   "source": [
    "#atplotlib.style.use(matplotlib.style.available[0])\n",
    "dalpha = 0.6\n",
    "ealpha = 0.5\n",
    "\n",
    "f, (ax1, ax2) = plt.subplots(1, 2, sharey=True, figsize=(4.25,3.25))\n",
    "ax2.errorbar(xs1, d1, sigma1*os , fmt=\"bo\", alpha=ealpha) #label=r\"$\\bf{d}_1$\")\n",
    "ax1.errorbar(xs2, d2, sigma2*os , fmt=\"go\", alpha=ealpha) #label=r\"$\\bf{d}_1$\")\n",
    "\n",
    "ax1.xaxis.set_visible(False); ax1.yaxis.set_visible(False)\n",
    "ax2.xaxis.set_visible(False); ax2.yaxis.set_visible(False)\n",
    "\n",
    "cross_size = 8\n",
    "\n",
    "ax2.plot(xs1, np.array([ymodel(x, m=r1[0], b=r1[1]) for x in xs1]), \"b--x\", label=r\"$g_2(\\bf{\\theta}_2^{\\rm ML})$\", \n",
    "         linewidth=2, markersize=cross_size)\n",
    "ax1.plot(xs2, np.array([ymodel(x, m=r2[0], b=r2[1]) for x in xs2]), \"g--x\", label=r\"$g_1(\\bf{\\theta}_1^{\\rm ML})$\", \n",
    "         linewidth=2, markersize=cross_size)\n",
    "\n",
    "ax2.plot(xs1, np.array([ymodel(x, m=r12[0], b=r12[1]) for x in xs1]), \"rx\", linestyle=\"dotted\", \n",
    "        linewidth=2, markersize=cross_size, label=r\"$g_2(\\bf{\\theta}_{12}^{\\rm ML})$\")\n",
    "ax1.plot(xs2, np.array([ymodel(x, m=r12[0], b=r12[1]) for x in xs2]), \"rx\", linestyle=\"dotted\", \n",
    "        linewidth=2, markersize=cross_size, label=r\"$g_1(\\bf{\\theta}_{12}^{\\rm ML})$\")\n",
    "\n",
    "\n",
    "ax1.set_title(r'dataset 1 (${\\bf d}_1$)'); ax1.set_xlim(-4.25, 0.025); ax1.set_ylim(-2.5, 4.25); ax1.grid(linestyle=\"dotted\")\n",
    "ax2.set_title(r'dataset 2 (${\\bf d}_2$)'); ax2.set_xlim(-0.025, 4.25); ax2.set_ylim(-2.5, 4.25); ax2.grid(linestyle=\"dotted\")\n",
    "\n",
    "ax1.legend(fontsize=12, loc=2)\n",
    "ax2.legend(fontsize=12, loc=4)\n",
    "\n",
    "f.tight_layout()\n",
    "f.subplots_adjust(wspace=0)\n",
    "#plt.savefig(\"gtheta_new2.pdf\")"
   ]
  },
  {
   "cell_type": "markdown",
   "metadata": {},
   "source": [
    "### Now compute the evidence ratio $R_{12}$ for the example datasets above"
   ]
  },
  {
   "cell_type": "code",
   "execution_count": 85,
   "metadata": {},
   "outputs": [
    {
     "name": "stdout",
     "output_type": "stream",
     "text": [
      "  analysing data from /tmp/tmp67n43p6rpymultinest/.txt\n",
      "  analysing data from /tmp/tmppc3nk8iapymultinest/.txt\n",
      "-0.8783811229893557 +/- 0.22020295976223708\n"
     ]
    }
   ],
   "source": [
    "dbfsep1 = np.array([ymodel(x, m=r1[0], b=r1[1]) for x in xs1])\n",
    "dbfsep2 = np.array([ymodel(x, m=r2[0], b=r2[1]) for x in xs2])\n",
    "\n",
    "dbfcom1 = np.array([ymodel(x, m=r12[0], b=r12[1]) for x in xs1])\n",
    "dbfcom2 = np.array([ymodel(x, m=r12[0], b=r12[1]) for x in xs2])\n",
    "\n",
    "def lnlikesep(params):\n",
    "        m, b = params\n",
    "        th1 = np.array([ymodel(x, m=m, b=b) for x in xs1])\n",
    "        th2 = np.array([ymodel(x, m=m, b=b) for x in xs2])\n",
    "\n",
    "        return -0.5*(np.sum(((dbfsep1-th1)/sigma1)**2.) + np.sum((dbfsep2-th2)/sigma2)**2.)\n",
    "\n",
    "def lnlikecom(params):\n",
    "    m, b = params\n",
    "    th1 = np.array([ymodel(x, m=m, b=b) for x in xs1])\n",
    "    th2 = np.array([ymodel(x, m=m, b=b) for x in xs2])\n",
    "\n",
    "    return -0.5*(np.sum(((dbfcom1-th1)/sigma1)**2.) + np.sum(((dbfcom2-th2)/sigma2)**2.))\n",
    "\n",
    "from pymultinest.solve import solve\n",
    "\n",
    "def Prior(cube):\n",
    "    return -5+cube*10\n",
    "    \n",
    "def Loglike(cube):\n",
    "    m, b = cube[0], cube[1]\n",
    "    return -chisq12([m,b])\n",
    "\n",
    "ressep = solve(LogLikelihood=lnlikesep, Prior=Prior, n_dims=2, resume=False,\n",
    "           sampling_efficiency=\"model\", n_live_points=400)\n",
    "rescom = solve(LogLikelihood=lnlikecom, Prior=Prior, n_dims=2, resume=False,\n",
    "           sampling_efficiency=\"model\", n_live_points=400)\n",
    "\n",
    "print (ressep['logZ']-rescom['logZ'], \"+/-\", ressep['logZerr']+rescom['logZerr'])"
   ]
  },
  {
   "cell_type": "code",
   "execution_count": 86,
   "metadata": {},
   "outputs": [
    {
     "data": {
      "image/png": "[encoded data removed]",
      "text/plain": [
       "<Figure size 288x234 with 1 Axes>"
      ]
     },
     "metadata": {},
     "output_type": "display_data"
    }
   ],
   "source": [
    "# the gaussian + peak plot\n",
    "##########################\n",
    "from scipy.stats import norm\n",
    "x = np.arange(-4.2, 4.2, 0.01)\n",
    "y1 = norm.pdf(x,-0.5, 1)\n",
    "y2 = 0.9*norm.pdf(x, 0, 1) + 0.1*norm.pdf(x, 3, 0.1)\n",
    "\n",
    "plt.figure(figsize=(4., 3.25))\n",
    "\n",
    "plt.plot(x, y1, \"--\", linewidth=2.0, label=r'$\\mathcal{L}_1$')\n",
    "plt.plot(x, y2, linewidth=1.6, label=r'$\\mathcal{L}_2$')\n",
    "\n",
    "plt.xlim(-4.2,4.2); plt.xticks([-4, -2, 0, 2, 4]); plt.xlabel(r'$\\theta$', fontsize=11)\n",
    "plt.ylabel(r'$\\mathcal{L}(\\theta)$', fontsize=11)\n",
    "\n",
    "plt.legend(fontsize=12)\n",
    "\n",
    "plt.tight_layout()\n",
    "#plt.savefig(\"nongaus2.pdf\")"
   ]
  }
 ],
 "metadata": {
  "kernelspec": {
   "display_name": "Python [conda env:anaconda3]",
   "language": "python",
   "name": "conda-env-anaconda3-py"
  },
  "language_info": {
   "codemirror_mode": {
    "name": "ipython",
    "version": 3
   },
   "file_extension": ".py",
   "mimetype": "text/x-python",
   "name": "python",
   "nbconvert_exporter": "python",
   "pygments_lexer": "ipython3",
   "version": "3.6.5"
  }
 },
 "nbformat": 4,
 "nbformat_minor": 2
}
